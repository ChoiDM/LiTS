{
  "nbformat": 4,
  "nbformat_minor": 0,
  "metadata": {
    "colab": {
      "name": "Training.ipynb",
      "version": "0.3.2",
      "provenance": [],
      "collapsed_sections": [],
      "include_colab_link": true
    },
    "kernelspec": {
      "name": "python3",
      "display_name": "Python 3"
    },
    "accelerator": "GPU"
  },
  "cells": [
    {
      "cell_type": "markdown",
      "metadata": {
        "id": "view-in-github",
        "colab_type": "text"
      },
      "source": [
        "<a href=\"https://colab.research.google.com/github/ChoiDM/LiTS/blob/master/Training.ipynb\" target=\"_parent\"><img src=\"https://colab.research.google.com/assets/colab-badge.svg\" alt=\"Open In Colab\"/></a>"
      ]
    },
    {
      "metadata": {
        "id": "qm6I_g1XfslG",
        "colab_type": "text"
      },
      "cell_type": "markdown",
      "source": [
        "## Import"
      ]
    },
    {
      "metadata": {
        "id": "UUqH3d5_fBqg",
        "colab_type": "code",
        "outputId": "94a9bb6a-3f31-40fc-b8ab-c26980a3e17b",
        "colab": {
          "base_uri": "https://localhost:8080/",
          "height": 34
        }
      },
      "cell_type": "code",
      "source": [
        "from keras.layers import Input, Conv2D, MaxPooling2D, concatenate, UpSampling2D, Dropout\n",
        "from keras.models import Model\n",
        "from keras.optimizers import Adam\n",
        "from keras.preprocessing.image import ImageDataGenerator\n",
        "from keras.models import model_from_json"
      ],
      "execution_count": 3,
      "outputs": [
        {
          "output_type": "stream",
          "text": [
            "Using TensorFlow backend.\n"
          ],
          "name": "stderr"
        }
      ]
    },
    {
      "metadata": {
        "id": "QmIfKG5LdC_t",
        "colab_type": "code",
        "colab": {}
      },
      "cell_type": "code",
      "source": [
        "import keras.backend as K\n",
        "import tensorflow as tf"
      ],
      "execution_count": 0,
      "outputs": []
    },
    {
      "metadata": {
        "id": "hbP44aVqGs5C",
        "colab_type": "code",
        "outputId": "ff3c104d-a871-4f75-a4a0-15cc631e9d52",
        "colab": {
          "base_uri": "https://localhost:8080/",
          "height": 195
        }
      },
      "cell_type": "code",
      "source": [
        "!pip install nibabel"
      ],
      "execution_count": 5,
      "outputs": [
        {
          "output_type": "stream",
          "text": [
            "Collecting nibabel\n",
            "\u001b[?25l  Downloading https://files.pythonhosted.org/packages/a4/63/aad4c6f6ffe3e23226f0905db5994e928e966267d2d191c39e96ddc40bcb/nibabel-2.3.1.tar.gz (4.2MB)\n",
            "\u001b[K    100% |████████████████████████████████| 4.2MB 8.3MB/s \n",
            "\u001b[?25hBuilding wheels for collected packages: nibabel\n",
            "  Running setup.py bdist_wheel for nibabel ... \u001b[?25l-\b \b\\\b \b|\b \b/\b \b-\b \b\\\b \b|\b \b/\b \b-\b \bdone\n",
            "\u001b[?25h  Stored in directory: /root/.cache/pip/wheels/6d/50/60/a2fcafe72ababac5240b3df2ee903197bec24b74d75840153f\n",
            "Successfully built nibabel\n",
            "Installing collected packages: nibabel\n",
            "Successfully installed nibabel-2.3.1\n"
          ],
          "name": "stdout"
        }
      ]
    },
    {
      "metadata": {
        "id": "wJAD-VrYfFki",
        "colab_type": "code",
        "colab": {}
      },
      "cell_type": "code",
      "source": [
        "import nibabel as nib\n",
        "from glob import glob\n",
        "import matplotlib.pyplot as plt\n",
        "import numpy as np\n",
        "from random import shuffle"
      ],
      "execution_count": 0,
      "outputs": []
    },
    {
      "metadata": {
        "id": "az1vI4gJfLiu",
        "colab_type": "code",
        "outputId": "c13acb85-55fd-4b89-e2f1-86d24100088b",
        "colab": {
          "base_uri": "https://localhost:8080/",
          "height": 125
        }
      },
      "cell_type": "code",
      "source": [
        "from google.colab import drive\n",
        "drive.mount(\"/gdrive\")"
      ],
      "execution_count": 7,
      "outputs": [
        {
          "output_type": "stream",
          "text": [
            "Go to this URL in a browser: https://accounts.google.com/o/oauth2/auth?client_id=947318989803-6bn6qk8qdgf4n4g3pfee6491hc0brc4i.apps.googleusercontent.com&redirect_uri=urn%3Aietf%3Awg%3Aoauth%3A2.0%3Aoob&scope=email%20https%3A%2F%2Fwww.googleapis.com%2Fauth%2Fdocs.test%20https%3A%2F%2Fwww.googleapis.com%2Fauth%2Fdrive%20https%3A%2F%2Fwww.googleapis.com%2Fauth%2Fdrive.photos.readonly%20https%3A%2F%2Fwww.googleapis.com%2Fauth%2Fpeopleapi.readonly&response_type=code\n",
            "\n",
            "Enter your authorization code:\n",
            "··········\n",
            "Mounted at /gdrive\n"
          ],
          "name": "stdout"
        }
      ]
    },
    {
      "metadata": {
        "id": "NwGGiz67fNtv",
        "colab_type": "code",
        "outputId": "93e319a2-952d-4ba4-fc00-0d133e1b5459",
        "colab": {
          "base_uri": "https://localhost:8080/",
          "height": 34
        }
      },
      "cell_type": "code",
      "source": [
        "cd /gdrive/My \\Drive/Segmentation/LITS"
      ],
      "execution_count": 8,
      "outputs": [
        {
          "output_type": "stream",
          "text": [
            "/gdrive/My Drive/Segmentation/LITS\n"
          ],
          "name": "stdout"
        }
      ]
    },
    {
      "metadata": {
        "id": "MO2ZZSu6fPmW",
        "colab_type": "code",
        "outputId": "41d7eab6-4775-4af7-8e18-eb20fd024836",
        "colab": {
          "base_uri": "https://localhost:8080/",
          "height": 34
        }
      },
      "cell_type": "code",
      "source": [
        "img_path = glob(\"Training Batch 1/volume-*.nii\")\n",
        "mask_path = glob(\"Training Batch 1/segmentation-*.nii\")\n",
        "\n",
        "print(\"Number of images :\", len(img_path))"
      ],
      "execution_count": 9,
      "outputs": [
        {
          "output_type": "stream",
          "text": [
            "Number of images : 28\n"
          ],
          "name": "stdout"
        }
      ]
    },
    {
      "metadata": {
        "id": "Cz392SQ8fviu",
        "colab_type": "text"
      },
      "cell_type": "markdown",
      "source": [
        "## Utils"
      ]
    },
    {
      "metadata": {
        "id": "m0SWnFyjIz5h",
        "colab_type": "code",
        "colab": {}
      },
      "cell_type": "code",
      "source": [
        "patch_ratio = []\n",
        "\n",
        "for i in range(16 + 1):\n",
        "  patch_ratio.append(32 * i)"
      ],
      "execution_count": 0,
      "outputs": []
    },
    {
      "metadata": {
        "id": "C88ATIWmdFA8",
        "colab_type": "code",
        "colab": {
          "base_uri": "https://localhost:8080/",
          "height": 316
        },
        "outputId": "5cca17fe-b2dc-492f-9ca1-1dd60792072c"
      },
      "cell_type": "code",
      "source": [
        "patch_ratio"
      ],
      "execution_count": 11,
      "outputs": [
        {
          "output_type": "execute_result",
          "data": {
            "text/plain": [
              "[0,\n",
              " 32,\n",
              " 64,\n",
              " 96,\n",
              " 128,\n",
              " 160,\n",
              " 192,\n",
              " 224,\n",
              " 256,\n",
              " 288,\n",
              " 320,\n",
              " 352,\n",
              " 384,\n",
              " 416,\n",
              " 448,\n",
              " 480,\n",
              " 512]"
            ]
          },
          "metadata": {
            "tags": []
          },
          "execution_count": 11
        }
      ]
    },
    {
      "metadata": {
        "id": "rGiIGSjmfvqt",
        "colab_type": "code",
        "colab": {}
      },
      "cell_type": "code",
      "source": [
        "def patch_sampling(img, mask, patch_ratio, pos_neg_ratio, threshold):\n",
        "  \n",
        "  temp_mask = mask\n",
        "  \n",
        "  temp_mask[temp_mask == 1] = 0\n",
        "  temp_mask[temp_mask == 2] = 1\n",
        "  \n",
        "  positive_patch = []\n",
        "  positive_mask = []\n",
        "  \n",
        "  negative_patch = []\n",
        "  negative_mask = []\n",
        "  \n",
        "  negative_set = []\n",
        "  \n",
        "  \n",
        "  for i in range(temp_mask.shape[2]):\n",
        "    for x_bin in range(2, len(patch_ratio)):\n",
        "        for y_bin in range(2, len(patch_ratio)):\n",
        "          img_patch = img[patch_ratio[x_bin-2] : patch_ratio[x_bin], patch_ratio[y_bin - 2] : patch_ratio[y_bin], i]\n",
        "          mask_patch = temp_mask[patch_ratio[x_bin-2] : patch_ratio[x_bin], patch_ratio[y_bin - 2] : patch_ratio[y_bin], i]\n",
        "          _, count = np.unique(mask_patch, return_counts = True)\n",
        "          \n",
        "          if len(count) == 2:\n",
        "            mask_percentage = count[1] / sum(count) * 100\n",
        "          \n",
        "            if threshold < mask_percentage :\n",
        "              positive_patch.append(img_patch)\n",
        "              positive_mask.append(mask_patch)\n",
        "          \n",
        "          \n",
        "          elif len(count) ==1:\n",
        "            \n",
        "            temp_list = []\n",
        "            temp_list.append(img_patch)\n",
        "            temp_list.append(mask_patch)\n",
        "            \n",
        "            negative_set.append(temp_list)\n",
        "  \n",
        "  shuffle(negative_set)\n",
        "  \n",
        "  negative_set_to_use = negative_set[:len(positive_patch) * pos_neg_ratio]\n",
        "  for negative_set in negative_set_to_use:\n",
        "    negative_patch.append(negative_set[0])\n",
        "    negative_mask.append(negative_set[1])\n",
        "  \n",
        "  negative_set_to_use = []\n",
        "  \n",
        "  return positive_patch, positive_mask, negative_patch, negative_mask"
      ],
      "execution_count": 0,
      "outputs": []
    },
    {
      "metadata": {
        "id": "ngq1ZUab3F6r",
        "colab_type": "code",
        "colab": {}
      },
      "cell_type": "code",
      "source": [
        "def slice_to_patch(slice, patch_ratio):\n",
        "  \n",
        "  slice[slice == 1] = 0\n",
        "  slice[slice == 2] = 1\n",
        "  \n",
        "  patch_list = []\n",
        "  \n",
        "  for x_bin in range(2, len(patch_ratio)):\n",
        "    for y_bin in range(2, len(patch_ratio)):\n",
        "      patch = slice[patch_ratio[x_bin-2] : patch_ratio[x_bin], patch_ratio[y_bin - 2] : patch_ratio[y_bin]]\n",
        "      patch = patch.reshape(patch.shape + (1,))\n",
        "      patch_list.append(patch)\n",
        "  \n",
        "  return np.array(patch_list)"
      ],
      "execution_count": 0,
      "outputs": []
    },
    {
      "metadata": {
        "id": "UsbWGHyE6nXh",
        "colab_type": "code",
        "colab": {}
      },
      "cell_type": "code",
      "source": [
        "def patch_to_slice(patch, patch_ratio, input_shape):\n",
        "  \n",
        "  slice = np.zeros((512, 512, 1))\n",
        "  row_idx = 0\n",
        "  col_idx = 0\n",
        "  \n",
        "  for i in range(len(patch)):\n",
        "    \n",
        "    slice[patch_ratio[row_idx]:patch_ratio[row_idx + 2], patch_ratio[col_idx]:patch_ratio[col_idx + 2]][patch[i] == 1] = 1\n",
        "    \n",
        "    col_idx += 1\n",
        "    \n",
        "    if i != 0 and (i+1) % 15 == 0:\n",
        "      row_idx += 1\n",
        "      col_idx = 0\n",
        "  \n",
        "  return slice"
      ],
      "execution_count": 0,
      "outputs": []
    },
    {
      "metadata": {
        "id": "e5H1bN8MdLoH",
        "colab_type": "code",
        "colab": {}
      },
      "cell_type": "code",
      "source": [
        "def weighted_binary_crossentropy(y_true, y_pred):\n",
        "    y_pred = tf.clip_by_value(y_pred, 10e-8, 1.-10e-8)\n",
        "    loss = - (y_true * K.log(y_pred) * 0.90 + (1 - y_true) * K.log(1 - y_pred) * 0.10)\n",
        "    \n",
        "    return K.mean(loss)"
      ],
      "execution_count": 0,
      "outputs": []
    },
    {
      "metadata": {
        "id": "R-KnEpEjfYbO",
        "colab_type": "text"
      },
      "cell_type": "markdown",
      "source": [
        "## Model"
      ]
    },
    {
      "metadata": {
        "id": "BvwhakozfY87",
        "colab_type": "code",
        "colab": {}
      },
      "cell_type": "code",
      "source": [
        "input_shape = [64, 64, 1]"
      ],
      "execution_count": 0,
      "outputs": []
    },
    {
      "metadata": {
        "id": "EPW2F07zfZGr",
        "colab_type": "code",
        "colab": {}
      },
      "cell_type": "code",
      "source": [
        "def u_net(input_shape):\n",
        "  \n",
        "  # Encoder\n",
        "  input = Input(shape = input_shape, name = \"input\")\n",
        "  conv1_1 = Conv2D(32, (3, 3), padding = \"same\", activation='relu', name = \"conv1_1\")(input)\n",
        "  conv1_2 = Conv2D(32, (3, 3), padding = \"same\", activation='relu', name = \"conv1_2\")(conv1_1)\n",
        "  pool1 = MaxPooling2D(name = \"pool1\")(conv1_2)\n",
        "  \n",
        "  conv2_1 = Conv2D(64, (3, 3), padding = \"same\", activation='relu', name = \"conv2_1\")(pool1)\n",
        "  conv2_2 = Conv2D(64, (3, 3), padding = \"same\", activation='relu', name = \"conv2_2\")(conv2_1)\n",
        "  pool2 = MaxPooling2D(name = \"pool2\")(conv2_2)\n",
        "  \n",
        "  conv3_1 = Conv2D(128, (3, 3), padding = \"same\", activation='relu', name = \"conv3_1\")(pool2)\n",
        "  conv3_2 = Conv2D(128, (3, 3), padding = \"same\", activation='relu', name = \"conv3_2\")(conv3_1)\n",
        "  pool3 = MaxPooling2D(name = \"pool3\")(conv3_2)\n",
        "  \n",
        "  conv4_1 = Conv2D(256, (3, 3), padding = \"same\", activation='relu', name = \"conv4_1\")(pool3)\n",
        "  conv4_2 = Conv2D(256, (3, 3), padding = \"same\", activation='relu', name = \"conv4_2\")(conv4_1)\n",
        "  pool4 = MaxPooling2D(name = \"pool4\")(conv4_2)\n",
        "  \n",
        "  conv5_1 = Conv2D(512, (3, 3), padding = \"same\", activation='relu', name = \"conv5_1\")(pool4)\n",
        "  conv5_2 = Conv2D(512, (3, 3), padding = \"same\", activation='relu', name = \"conv5_2\")(conv5_1)\n",
        "  \n",
        "  \n",
        "  # Decoder\n",
        "  upconv6 = UpSampling2D()(conv5_2) \n",
        "  upconv6 = Conv2D(256, (2, 2), padding = \"same\", name = \"upconv6\")(upconv6)\n",
        "  concat6 = concatenate([conv4_2, upconv6], name = \"concat6\")\n",
        "  conv6_1 = Conv2D(256, (3, 3), padding = \"same\", name = \"conv6_1\")(concat6)\n",
        "  conv6_2 = Conv2D(256, (3, 3), padding = \"same\", name = \"conv6_2\")(conv6_1)\n",
        "  \n",
        "  upconv7 = UpSampling2D()(conv6_2) \n",
        "  upconv7 = Conv2D(128, (2, 2), padding = \"same\", name = \"upconv7\")(upconv7)\n",
        "  concat7 = concatenate([conv3_2, upconv7], name = \"concat7\")\n",
        "  conv7_1 = Conv2D(128, (3, 3), padding = \"same\", name = \"conv7_1\")(concat7)\n",
        "  conv7_2 = Conv2D(128, (3, 3), padding = \"same\", name = \"conv7_2\")(conv7_1)\n",
        "  \n",
        "  upconv8 = UpSampling2D()(conv7_2) \n",
        "  upconv8 = Conv2D(64, (2, 2), padding = \"same\", name = \"upconv8\")(upconv8)\n",
        "  concat8 = concatenate([conv2_2, upconv8], name = \"concat8\")\n",
        "  conv8_1 = Conv2D(64, (3, 3), padding = \"same\", name = \"conv8_1\")(concat8)\n",
        "  conv8_2 = Conv2D(64, (3, 3), padding = \"same\", name = \"conv8_2\")(conv8_1)\n",
        "  \n",
        "  upconv9 = UpSampling2D()(conv8_2) \n",
        "  upconv9 = Conv2D(32, (2, 2), padding = \"same\", name = \"upconv9\")(upconv9)\n",
        "  concat9 = concatenate([conv1_2, upconv9], name = \"concat9\")\n",
        "  conv9_1 = Conv2D(32, (3, 3), padding = \"same\", name = \"conv9_1\")(concat9)\n",
        "  conv9_2 = Conv2D(32, (3, 3), padding = \"same\", name = \"conv9_2\")(conv9_1)\n",
        "  dropout = Dropout(0.5)(conv9_2)\n",
        "  \n",
        "  conv10 = Conv2D(1, (1, 1), padding = \"same\", activation = 'sigmoid', name = \"conv10\")(dropout)\n",
        "\n",
        " \n",
        "  model = Model(input, conv10)\n",
        "  \n",
        "  return model"
      ],
      "execution_count": 0,
      "outputs": []
    },
    {
      "metadata": {
        "id": "mDG0ni4kfaRv",
        "colab_type": "code",
        "colab": {}
      },
      "cell_type": "code",
      "source": [
        "model = u_net(input_shape)"
      ],
      "execution_count": 0,
      "outputs": []
    },
    {
      "metadata": {
        "id": "ev26fndqfb0Z",
        "colab_type": "code",
        "colab": {
          "base_uri": "https://localhost:8080/",
          "height": 1511
        },
        "outputId": "b69c5501-90f1-451c-8b4d-ffbc531f377c"
      },
      "cell_type": "code",
      "source": [
        "model.summary()"
      ],
      "execution_count": 52,
      "outputs": [
        {
          "output_type": "stream",
          "text": [
            "__________________________________________________________________________________________________\n",
            "Layer (type)                    Output Shape         Param #     Connected to                     \n",
            "==================================================================================================\n",
            "input (InputLayer)              (None, 64, 64, 1)    0                                            \n",
            "__________________________________________________________________________________________________\n",
            "conv1_1 (Conv2D)                (None, 64, 64, 32)   320         input[0][0]                      \n",
            "__________________________________________________________________________________________________\n",
            "conv1_2 (Conv2D)                (None, 64, 64, 32)   9248        conv1_1[0][0]                    \n",
            "__________________________________________________________________________________________________\n",
            "pool1 (MaxPooling2D)            (None, 32, 32, 32)   0           conv1_2[0][0]                    \n",
            "__________________________________________________________________________________________________\n",
            "conv2_1 (Conv2D)                (None, 32, 32, 64)   18496       pool1[0][0]                      \n",
            "__________________________________________________________________________________________________\n",
            "conv2_2 (Conv2D)                (None, 32, 32, 64)   36928       conv2_1[0][0]                    \n",
            "__________________________________________________________________________________________________\n",
            "pool2 (MaxPooling2D)            (None, 16, 16, 64)   0           conv2_2[0][0]                    \n",
            "__________________________________________________________________________________________________\n",
            "conv3_1 (Conv2D)                (None, 16, 16, 128)  73856       pool2[0][0]                      \n",
            "__________________________________________________________________________________________________\n",
            "conv3_2 (Conv2D)                (None, 16, 16, 128)  147584      conv3_1[0][0]                    \n",
            "__________________________________________________________________________________________________\n",
            "pool3 (MaxPooling2D)            (None, 8, 8, 128)    0           conv3_2[0][0]                    \n",
            "__________________________________________________________________________________________________\n",
            "conv4_1 (Conv2D)                (None, 8, 8, 256)    295168      pool3[0][0]                      \n",
            "__________________________________________________________________________________________________\n",
            "conv4_2 (Conv2D)                (None, 8, 8, 256)    590080      conv4_1[0][0]                    \n",
            "__________________________________________________________________________________________________\n",
            "pool4 (MaxPooling2D)            (None, 4, 4, 256)    0           conv4_2[0][0]                    \n",
            "__________________________________________________________________________________________________\n",
            "conv5_1 (Conv2D)                (None, 4, 4, 512)    1180160     pool4[0][0]                      \n",
            "__________________________________________________________________________________________________\n",
            "conv5_2 (Conv2D)                (None, 4, 4, 512)    2359808     conv5_1[0][0]                    \n",
            "__________________________________________________________________________________________________\n",
            "up_sampling2d_6 (UpSampling2D)  (None, 8, 8, 512)    0           conv5_2[0][0]                    \n",
            "__________________________________________________________________________________________________\n",
            "upconv6 (Conv2D)                (None, 8, 8, 256)    524544      up_sampling2d_6[0][0]            \n",
            "__________________________________________________________________________________________________\n",
            "concat6 (Concatenate)           (None, 8, 8, 512)    0           conv4_2[0][0]                    \n",
            "                                                                 upconv6[0][0]                    \n",
            "__________________________________________________________________________________________________\n",
            "conv6_1 (Conv2D)                (None, 8, 8, 256)    1179904     concat6[0][0]                    \n",
            "__________________________________________________________________________________________________\n",
            "conv6_2 (Conv2D)                (None, 8, 8, 256)    590080      conv6_1[0][0]                    \n",
            "__________________________________________________________________________________________________\n",
            "up_sampling2d_7 (UpSampling2D)  (None, 16, 16, 256)  0           conv6_2[0][0]                    \n",
            "__________________________________________________________________________________________________\n",
            "upconv7 (Conv2D)                (None, 16, 16, 128)  131200      up_sampling2d_7[0][0]            \n",
            "__________________________________________________________________________________________________\n",
            "concat7 (Concatenate)           (None, 16, 16, 256)  0           conv3_2[0][0]                    \n",
            "                                                                 upconv7[0][0]                    \n",
            "__________________________________________________________________________________________________\n",
            "conv7_1 (Conv2D)                (None, 16, 16, 128)  295040      concat7[0][0]                    \n",
            "__________________________________________________________________________________________________\n",
            "conv7_2 (Conv2D)                (None, 16, 16, 128)  147584      conv7_1[0][0]                    \n",
            "__________________________________________________________________________________________________\n",
            "up_sampling2d_8 (UpSampling2D)  (None, 32, 32, 128)  0           conv7_2[0][0]                    \n",
            "__________________________________________________________________________________________________\n",
            "upconv8 (Conv2D)                (None, 32, 32, 64)   32832       up_sampling2d_8[0][0]            \n",
            "__________________________________________________________________________________________________\n",
            "concat8 (Concatenate)           (None, 32, 32, 128)  0           conv2_2[0][0]                    \n",
            "                                                                 upconv8[0][0]                    \n",
            "__________________________________________________________________________________________________\n",
            "conv8_1 (Conv2D)                (None, 32, 32, 64)   73792       concat8[0][0]                    \n",
            "__________________________________________________________________________________________________\n",
            "conv8_2 (Conv2D)                (None, 32, 32, 64)   36928       conv8_1[0][0]                    \n",
            "__________________________________________________________________________________________________\n",
            "up_sampling2d_9 (UpSampling2D)  (None, 64, 64, 64)   0           conv8_2[0][0]                    \n",
            "__________________________________________________________________________________________________\n",
            "upconv9 (Conv2D)                (None, 64, 64, 32)   8224        up_sampling2d_9[0][0]            \n",
            "__________________________________________________________________________________________________\n",
            "concat9 (Concatenate)           (None, 64, 64, 64)   0           conv1_2[0][0]                    \n",
            "                                                                 upconv9[0][0]                    \n",
            "__________________________________________________________________________________________________\n",
            "conv9_1 (Conv2D)                (None, 64, 64, 32)   18464       concat9[0][0]                    \n",
            "__________________________________________________________________________________________________\n",
            "conv9_2 (Conv2D)                (None, 64, 64, 32)   9248        conv9_1[0][0]                    \n",
            "__________________________________________________________________________________________________\n",
            "dropout_2 (Dropout)             (None, 64, 64, 32)   0           conv9_2[0][0]                    \n",
            "__________________________________________________________________________________________________\n",
            "conv10 (Conv2D)                 (None, 64, 64, 1)    33          dropout_2[0][0]                  \n",
            "==================================================================================================\n",
            "Total params: 7,759,521\n",
            "Trainable params: 7,759,521\n",
            "Non-trainable params: 0\n",
            "__________________________________________________________________________________________________\n"
          ],
          "name": "stdout"
        }
      ]
    },
    {
      "metadata": {
        "id": "Iyy5fU_TdNAC",
        "colab_type": "text"
      },
      "cell_type": "markdown",
      "source": [
        "## Training"
      ]
    },
    {
      "metadata": {
        "id": "m6iziBCzLEx_",
        "colab_type": "code",
        "colab": {}
      },
      "cell_type": "code",
      "source": [
        "adam = Adam(lr = 0.0001, decay = 0.01)"
      ],
      "execution_count": 0,
      "outputs": []
    },
    {
      "metadata": {
        "id": "wJgocqjPfftL",
        "colab_type": "code",
        "colab": {}
      },
      "cell_type": "code",
      "source": [
        "model.compile(optimizer = adam, loss = weighted_binary_crossentropy, metrics = ['accuracy'])"
      ],
      "execution_count": 0,
      "outputs": []
    },
    {
      "metadata": {
        "id": "HCntF7mDfiG1",
        "colab_type": "code",
        "colab": {}
      },
      "cell_type": "code",
      "source": [
        "total_data = 0\n",
        "\n",
        "for i in range(len(img_path)):\n",
        "  \n",
        "  img_3D = nib.load(img_path[i]).get_data()\n",
        "  mask_3D = nib.load(mask_path[i]).get_data()\n",
        "  \n",
        "  pos_patch, pos_mask, neg_patch, neg_mask = patch_sampling(img_3D, mask_3D, patch_ratio, 3, 3.0)\n",
        "  total_patch = pos_patch + neg_patch\n",
        "  total_mask = pos_mask + neg_mask\n",
        "  \n",
        "  X_array = np.array(total_patch).reshape((len(total_patch), 64, 64, 1))\n",
        "  y_array = np.array(total_mask).reshape((len(total_mask), 64, 64, 1))\n",
        "  total_data += len(total_patch)\n",
        "  \n",
        "  print(\"======= Step [{0} / {1}] : # of patches = {2} | # of total training images = {3} =======\".format(i+1, len(img_path), len(total_patch), total_data))\n",
        "  \n",
        "  if y_array.shape[0] != 0:\n",
        "    model.fit(X_array, y_array, batch_size = 8, epochs = 150)"
      ],
      "execution_count": 0,
      "outputs": []
    },
    {
      "metadata": {
        "id": "a4EWPM_n1xPE",
        "colab_type": "text"
      },
      "cell_type": "markdown",
      "source": [
        "## Save\n",
        "Reference : [Link](https://machinelearningmastery.com/save-load-keras-deep-learning-models/)"
      ]
    },
    {
      "metadata": {
        "id": "uJcXc1HS14x4",
        "colab_type": "code",
        "colab": {}
      },
      "cell_type": "code",
      "source": [
        "model_json = model.to_json()\n",
        "with open(\"model_expand.json\", \"w\") as json_file:\n",
        "    json_file.write(model_json)\n",
        "# serialize weights to HDF5\n",
        "model.save_weights(\"model_expand.h5\")"
      ],
      "execution_count": 0,
      "outputs": []
    },
    {
      "metadata": {
        "id": "YUtE2jBp3-er",
        "colab_type": "text"
      },
      "cell_type": "markdown",
      "source": [
        "## Load"
      ]
    },
    {
      "metadata": {
        "id": "Bk9x37db3_7d",
        "colab_type": "code",
        "outputId": "fdde3f23-0867-44ce-c485-086f05c17a8c",
        "colab": {
          "base_uri": "https://localhost:8080/",
          "height": 34
        }
      },
      "cell_type": "code",
      "source": [
        "json_file = open('model.json', 'r')\n",
        "loaded_model_json = json_file.read()\n",
        "json_file.close()\n",
        "loaded_model = model_from_json(loaded_model_json)\n",
        "# load weights into new model\n",
        "loaded_model.load_weights(\"model.h5\")\n",
        "print(\"Loaded model from disk\")"
      ],
      "execution_count": 17,
      "outputs": [
        {
          "output_type": "stream",
          "text": [
            "Loaded model from disk\n"
          ],
          "name": "stdout"
        }
      ]
    },
    {
      "metadata": {
        "id": "fvIvg1zA4NU-",
        "colab_type": "code",
        "colab": {
          "base_uri": "https://localhost:8080/",
          "height": 1194
        },
        "outputId": "91213061-e65a-4662-8192-277f7a569c24"
      },
      "cell_type": "code",
      "source": [
        "loaded_model.summary()"
      ],
      "execution_count": 45,
      "outputs": [
        {
          "output_type": "stream",
          "text": [
            "__________________________________________________________________________________________________\n",
            "Layer (type)                    Output Shape         Param #     Connected to                     \n",
            "==================================================================================================\n",
            "input (InputLayer)              (None, 64, 64, 1)    0                                            \n",
            "__________________________________________________________________________________________________\n",
            "conv1_1 (Conv2D)                (None, 64, 64, 32)   320         input[0][0]                      \n",
            "__________________________________________________________________________________________________\n",
            "pool1 (MaxPooling2D)            (None, 32, 32, 32)   0           conv1_1[0][0]                    \n",
            "__________________________________________________________________________________________________\n",
            "conv2_1 (Conv2D)                (None, 32, 32, 64)   18496       pool1[0][0]                      \n",
            "__________________________________________________________________________________________________\n",
            "pool2 (MaxPooling2D)            (None, 16, 16, 64)   0           conv2_1[0][0]                    \n",
            "__________________________________________________________________________________________________\n",
            "conv3_1 (Conv2D)                (None, 16, 16, 128)  73856       pool2[0][0]                      \n",
            "__________________________________________________________________________________________________\n",
            "pool3 (MaxPooling2D)            (None, 8, 8, 128)    0           conv3_1[0][0]                    \n",
            "__________________________________________________________________________________________________\n",
            "conv4_1 (Conv2D)                (None, 8, 8, 256)    295168      pool3[0][0]                      \n",
            "__________________________________________________________________________________________________\n",
            "pool4 (MaxPooling2D)            (None, 4, 4, 256)    0           conv4_1[0][0]                    \n",
            "__________________________________________________________________________________________________\n",
            "conv5_1 (Conv2D)                (None, 4, 4, 512)    1180160     pool4[0][0]                      \n",
            "__________________________________________________________________________________________________\n",
            "up_sampling2d_1 (UpSampling2D)  (None, 8, 8, 512)    0           conv5_1[0][0]                    \n",
            "__________________________________________________________________________________________________\n",
            "upconv6 (Conv2D)                (None, 8, 8, 256)    524544      up_sampling2d_1[0][0]            \n",
            "__________________________________________________________________________________________________\n",
            "concat6 (Concatenate)           (None, 8, 8, 512)    0           conv4_1[0][0]                    \n",
            "                                                                 upconv6[0][0]                    \n",
            "__________________________________________________________________________________________________\n",
            "conv6_1 (Conv2D)                (None, 8, 8, 256)    1179904     concat6[0][0]                    \n",
            "__________________________________________________________________________________________________\n",
            "up_sampling2d_2 (UpSampling2D)  (None, 16, 16, 256)  0           conv6_1[0][0]                    \n",
            "__________________________________________________________________________________________________\n",
            "upconv7 (Conv2D)                (None, 16, 16, 128)  131200      up_sampling2d_2[0][0]            \n",
            "__________________________________________________________________________________________________\n",
            "concat7 (Concatenate)           (None, 16, 16, 256)  0           conv3_1[0][0]                    \n",
            "                                                                 upconv7[0][0]                    \n",
            "__________________________________________________________________________________________________\n",
            "conv7_1 (Conv2D)                (None, 16, 16, 128)  295040      concat7[0][0]                    \n",
            "__________________________________________________________________________________________________\n",
            "up_sampling2d_3 (UpSampling2D)  (None, 32, 32, 128)  0           conv7_1[0][0]                    \n",
            "__________________________________________________________________________________________________\n",
            "upconv8 (Conv2D)                (None, 32, 32, 64)   32832       up_sampling2d_3[0][0]            \n",
            "__________________________________________________________________________________________________\n",
            "concat8 (Concatenate)           (None, 32, 32, 128)  0           conv2_1[0][0]                    \n",
            "                                                                 upconv8[0][0]                    \n",
            "__________________________________________________________________________________________________\n",
            "conv8_1 (Conv2D)                (None, 32, 32, 64)   73792       concat8[0][0]                    \n",
            "__________________________________________________________________________________________________\n",
            "up_sampling2d_4 (UpSampling2D)  (None, 64, 64, 64)   0           conv8_1[0][0]                    \n",
            "__________________________________________________________________________________________________\n",
            "upconv9 (Conv2D)                (None, 64, 64, 32)   8224        up_sampling2d_4[0][0]            \n",
            "__________________________________________________________________________________________________\n",
            "concat9 (Concatenate)           (None, 64, 64, 64)   0           conv1_1[0][0]                    \n",
            "                                                                 upconv9[0][0]                    \n",
            "__________________________________________________________________________________________________\n",
            "conv9_1 (Conv2D)                (None, 64, 64, 32)   18464       concat9[0][0]                    \n",
            "__________________________________________________________________________________________________\n",
            "dropout_1 (Dropout)             (None, 64, 64, 32)   0           conv9_1[0][0]                    \n",
            "__________________________________________________________________________________________________\n",
            "conv10 (Conv2D)                 (None, 64, 64, 1)    33          dropout_1[0][0]                  \n",
            "==================================================================================================\n",
            "Total params: 3,832,033\n",
            "Trainable params: 3,832,033\n",
            "Non-trainable params: 0\n",
            "__________________________________________________________________________________________________\n"
          ],
          "name": "stdout"
        }
      ]
    },
    {
      "metadata": {
        "colab_type": "text",
        "id": "R_6telMu2lhA"
      },
      "cell_type": "markdown",
      "source": [
        "## Example"
      ]
    },
    {
      "metadata": {
        "id": "koHIxjJ92xCq",
        "colab_type": "code",
        "colab": {}
      },
      "cell_type": "code",
      "source": [
        "img_ex = nib.load(img_path[25]).get_data()\n",
        "mask_ex = nib.load(mask_path[25]).get_data()"
      ],
      "execution_count": 0,
      "outputs": []
    },
    {
      "metadata": {
        "id": "_oLlg-lbePfi",
        "colab_type": "code",
        "colab": {}
      },
      "cell_type": "code",
      "source": [
        "slice_num = 371"
      ],
      "execution_count": 0,
      "outputs": []
    },
    {
      "metadata": {
        "id": "yzSrMuVI28wM",
        "colab_type": "code",
        "colab": {}
      },
      "cell_type": "code",
      "source": [
        "patch_ex = slice_to_patch(img_ex[:, :, slice_num], patch_ratio)\n",
        "mask_patch = slice_to_patch(mask_ex[:, :, slice_num], patch_ratio)"
      ],
      "execution_count": 0,
      "outputs": []
    },
    {
      "metadata": {
        "id": "tNgF9HqPb8l9",
        "colab_type": "code",
        "colab": {}
      },
      "cell_type": "code",
      "source": [
        "prediction = loaded_model.predict(patch_ex)"
      ],
      "execution_count": 0,
      "outputs": []
    },
    {
      "metadata": {
        "id": "TxeyMBBGcI52",
        "colab_type": "code",
        "colab": {}
      },
      "cell_type": "code",
      "source": [
        "prediction_mask = patch_to_slice(prediction, patch_ratio, input_shape)"
      ],
      "execution_count": 0,
      "outputs": []
    },
    {
      "metadata": {
        "id": "prfl7n_Wa-8G",
        "colab_type": "code",
        "colab": {
          "base_uri": "https://localhost:8080/",
          "height": 330
        },
        "outputId": "4c8100e1-12f4-4ae6-f194-19684bfecc97"
      },
      "cell_type": "code",
      "source": [
        "fig, (ax1, ax2, ax3) = plt.subplots(1, 3, figsize = (15, 15))\n",
        "\n",
        "ax1.imshow(img_ex[:, :, slice_num].reshape((512, 512)), cmap = 'bone')\n",
        "ax1.grid(False)\n",
        "ax1.set_title(\"Image\", fontsize = \"x-large\")\n",
        "\n",
        "ax2.imshow(mask_ex[:, :, slice_num].reshape((512, 512)), cmap = 'bone')\n",
        "ax2.grid(False)\n",
        "ax2.set_title(\"Mask (True)\", fontsize = \"x-large\")\n",
        "\n",
        "ax3.imshow(prediction_mask.reshape((512, 512)), cmap = 'bone')\n",
        "ax3.grid(False)\n",
        "ax3.set_title(\"Mask (Prediction)\", fontsize = \"x-large\")"
      ],
      "execution_count": 44,
      "outputs": [
        {
          "output_type": "execute_result",
          "data": {
            "text/plain": [
              "Text(0.5,1,'Mask (Prediction)')"
            ]
          },
          "metadata": {
            "tags": []
          },
          "execution_count": 44
        },
        {
          "output_type": "display_data",
          "data": {
            "image/png": "[encoded data removed]",
            "text/plain": [
              "<matplotlib.figure.Figure at 0x7f2815cef358>"
            ]
          },
          "metadata": {
            "tags": []
          }
        }
      ]
    }
  ]
}